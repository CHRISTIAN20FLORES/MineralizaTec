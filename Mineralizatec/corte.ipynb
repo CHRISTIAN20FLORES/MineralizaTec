{
 "cells": [
  {
   "cell_type": "code",
   "execution_count": 1,
   "metadata": {},
   "outputs": [],
   "source": [
    "import pandas as pd\n",
    "import numpy as np\n",
    "import matplotlib.pyplot as plt\n",
    "import seaborn as sns\n",
    "import ipywidgets as widgets"
   ]
  },
  {
   "cell_type": "code",
   "execution_count": 8,
   "metadata": {},
   "outputs": [],
   "source": [
    "ruta = \"C:\\\\Users\\\\Sebastian\\\\Desktop\\\\YO\\\\MBS\\\\op_demo_mod.csv\"\n",
    "data = pd.read_csv(ruta, low_memory=False)"
   ]
  },
  {
   "cell_type": "code",
   "execution_count": 12,
   "metadata": {},
   "outputs": [],
   "source": [
    "columnas = ['XC', 'YC', 'ZC', 'AU', 'CU', 'PSB_PIT', 'ROCKCODE', 'DENSITY', 'MAOPDEST', 'NPVPROFT']\n",
    "df = pd.read_csv(ruta, usecols= columnas)\n",
    "df.replace('-', np.nan, inplace=True)"
   ]
  },
  {
   "cell_type": "code",
   "execution_count": 16,
   "metadata": {},
   "outputs": [],
   "source": [
    "y = list(df[\"YC\"].unique())\n",
    "paleta = {\"1\": \"green\", \"2\": \"blue\", \"3\": \"yellow\", \"4\":\"gray\", \"5\": \"maroon\", \"6\":\"red\"}"
   ]
  },
  {
   "cell_type": "code",
   "execution_count": 19,
   "metadata": {},
   "outputs": [],
   "source": [
    "def corte_xz(i=260):\n",
    "    corte = df[df[\"YC\"] == y[i]]\n",
    "    fig, ax = plt.subplots(figsize =(8,8), subplot_kw={\"aspect\":1})\n",
    "    sns.scatterplot(ax = ax , data = corte, x = \"XC\", y = \"ZC\", hue= \"PSB_PIT\", palette= paleta, s=100, marker = \"s\")\n",
    "    ax.legend (title = \"Fases\", bbox_to_anchor = (1,1), loc = \"upper left\")\n",
    "    ax.set_xlim([4700, 5480])\n",
    "    ax.set_ylim ([1900, 2300])\n",
    "    plt.show()"
   ]
  },
  {
   "cell_type": "code",
   "execution_count": 20,
   "metadata": {},
   "outputs": [
    {
     "data": {
      "application/vnd.jupyter.widget-view+json": {
       "model_id": "d600f120eb11485fa8a6a60325e9e4a5",
       "version_major": 2,
       "version_minor": 0
      },
      "text/plain": [
       "interactive(children=(IntSlider(value=260, description='i', max=344, min=260), Output()), _dom_classes=('widge…"
      ]
     },
     "metadata": {},
     "output_type": "display_data"
    },
    {
     "data": {
      "text/plain": [
       "<function __main__.corte_xz(i=260)>"
      ]
     },
     "execution_count": 20,
     "metadata": {},
     "output_type": "execute_result"
    }
   ],
   "source": [
    "widgets.interact(corte_xz, i=(260, len(y)-12,1))"
   ]
  },
  {
   "cell_type": "code",
   "execution_count": null,
   "metadata": {},
   "outputs": [],
   "source": []
  }
 ],
 "metadata": {
  "kernelspec": {
   "display_name": "Python 3",
   "language": "python",
   "name": "python3"
  },
  "language_info": {
   "codemirror_mode": {
    "name": "ipython",
    "version": 3
   },
   "file_extension": ".py",
   "mimetype": "text/x-python",
   "name": "python",
   "nbconvert_exporter": "python",
   "pygments_lexer": "ipython3",
   "version": "3.11.5"
  }
 },
 "nbformat": 4,
 "nbformat_minor": 2
}
